{
  "nbformat": 4,
  "nbformat_minor": 0,
  "metadata": {
    "colab": {
      "provenance": [],
      "include_colab_link": true
    },
    "kernelspec": {
      "name": "python3",
      "display_name": "Python 3"
    },
    "language_info": {
      "name": "python"
    }
  },
  "cells": [
    {
      "cell_type": "markdown",
      "metadata": {
        "id": "view-in-github",
        "colab_type": "text"
      },
      "source": [
        "<a href=\"https://colab.research.google.com/github/tan003600/CSE330_Automata-Compatibility/blob/main/Lab07.ipynb\" target=\"_parent\"><img src=\"https://colab.research.google.com/assets/colab-badge.svg\" alt=\"Open In Colab\"/></a>"
      ]
    },
    {
      "cell_type": "markdown",
      "source": [
        "# Part 1: Solving a linear system using inverse matrix - 1 Marks\n",
        "\n",
        "We have a linear system\n",
        "\n",
        "\\begin{align}\n",
        "&a_{11} x_1 + a_{12} x_2 +  \\cdots  + a_{1n} x_n = b_1\\\\\n",
        "&a_{21} x_1 + a_{22} x_2 +  \\cdots + a_{2n} x_n = b_2\\\\\n",
        "&\\cdots\\\\\n",
        "&a_{n1} x_1 + a_{n2} x_2 +  \\cdots + a_{nn} x_n = b_n\\\\\n",
        "\\end{align}\n",
        "\n",
        "It is convenient to express this system in the\n",
        "matrix form\n",
        "\n",
        "\\begin{align}\n",
        "Ax = b\n",
        "\\end{align}\n",
        "\n",
        "where $A$ is an $n \\times n$ square matrix with elements $a_{ij}$, and $x$, $b$ are $n \\times 1$ vectors.\n",
        "\n",
        "We have to keep in mind that this system will have a unique solution iff $A$ is non-singular, given by $x = A^{-1}b.$"
      ],
      "metadata": {
        "id": "cbYDwRgN3vcq"
      }
    },
    {
      "cell_type": "code",
      "source": [
        "import matplotlib.pyplot as plt\n",
        "import numpy as np\n",
        "import sys"
      ],
      "metadata": {
        "id": "aQX8PNoJ39Ak"
      },
      "execution_count": null,
      "outputs": []
    },
    {
      "cell_type": "code",
      "source": [
        "def get_result_by_inverse_matrix(A, b):\n",
        "  # A and b are numpy arrays\n",
        "\n",
        "  # first check if the A is non-singular matrix. We know that the determinant of\n",
        "  # a non-singular matrix will be non-zero\n",
        "\n",
        "\n",
        "  # YOUR CODE HERE\n",
        "    det_A = np.linalg.det(A)\n",
        "    if det_A == 0 :\n",
        "        print(\"Singular Matrix\")\n",
        "    else :\n",
        "        A_inv = np.linalg.inv(A)\n",
        "        x = np.dot(A_inv, b)\n",
        "  #raise NotImplementedError()\n",
        "\n",
        "  # # HINT:\n",
        "  # You may find functions such as linalg.det(), linalg.inv, etc. of the numpy package useful\n",
        "\n",
        "    return x"
      ],
      "metadata": {
        "id": "liidjMKS-DBM"
      },
      "execution_count": null,
      "outputs": []
    },
    {
      "cell_type": "code",
      "source": [
        "# Test case for the get_result_by_inverse_matrix(A, b) function.\n",
        "\n",
        "data_A = np.array([[1, 2, 1], [1, -2, 2], [2, 12, -2]])\n",
        "data_b = np.array([0,4,4])\n",
        "\n",
        "test = get_result_by_inverse_matrix(data_A, data_b)\n",
        "results = [11, -2.5, -6]\n",
        "\n",
        "np.testing.assert_array_equal(test, results)"
      ],
      "metadata": {
        "id": "Ege-eIAp-CTV"
      },
      "execution_count": null,
      "outputs": []
    },
    {
      "cell_type": "code",
      "source": [
        "print(test)"
      ],
      "metadata": {
        "colab": {
          "base_uri": "https://localhost:8080/"
        },
        "id": "EjYw_dlJ-qb_",
        "outputId": "dcfbba8c-ac00-4d8b-c6ec-5a1815e9265b"
      },
      "execution_count": null,
      "outputs": [
        {
          "output_type": "stream",
          "name": "stdout",
          "text": [
            "[11.  -2.5 -6. ]\n"
          ]
        }
      ]
    },
    {
      "cell_type": "markdown",
      "source": [
        "# Part 2: Gaussian elimination - 1.5 Marks\n",
        "\n",
        "Gaussian elimination uses elementary row operations to transform the system to upper triangular form $Ux = y$.\n",
        "\n",
        "Elementary row operations include swapping rows and adding multiples of one rowto another.\n",
        "They won’t change the solution $x$, but will change the matrix $A$ and the right-hand side $b$.\n",
        "\n",
        "The upper triangular matrix, $𝑈$, is defined as\n",
        "\n",
        "\\begin{bmatrix}\n",
        "u_{11} & u_{12} & \\cdots & u_{1n}\\\\\n",
        "0 & u_{22} & \\cdots & u_{2n}\\\\\n",
        "\\vdots & \\vdots & \\ddots & \\vdots\\\\\n",
        "0 & \\cdots & 0 & u_{nn}\\\\\n",
        "\\end{bmatrix}\n"
      ],
      "metadata": {
        "id": "eyAJANDCC08f"
      }
    },
    {
      "cell_type": "markdown",
      "source": [
        "**Algorithm of Gaussian elimination**\n",
        "\n",
        "Let $A^{(1)}=A$ and $b^{(1)}=b$. Then for each k from 1 to $n-1$, compute a new matrix $A^{(k+1)}$ and right-hand side $b^{(k+1)}$ by the following procedure:\n",
        "\n",
        "\n",
        "1.   Define the row multipliers\n",
        "\n",
        "\\begin{align}\n",
        "m_{ij} = \\frac{a_{ik}^{(k)}}{a_{kk}^{(k)}}, i=k+1,\\cdot \\cdot \\cdot,n.\n",
        "\\end{align}\n",
        "2.   Use these to remove the unknown $x_k$ from equations $k + 1$ to $n$, leaving\n",
        "\n",
        "\\begin{align}\n",
        "a_{ij}^{(k+1)}=a_{ij}^{(k)}-m_{ik}a_{kj}^{(k)}, b_{i}^{(k+1)}=b_{i}^{(k)}-m_{ik}b_{k}^{(k)}, i,j=k+1,\\cdot \\cdot \\cdot, n.\n",
        "\\end{align}\n",
        "\n",
        "It is helpful to combine these matrices to form an Augmented matrix (matrix $𝑏$ is the fourth column). We will perform this row operations on the Augmented matrix. It takes care of both $𝐴$ and $𝑏$ matrixes at the same time.\n",
        "\n",
        "After generating the upper triangular matrix, we have to apply **backward substitution method**.\n",
        "For any $n \\times n$ upper triangular system, $Ux = b$, the solution is:\n",
        "\n",
        "\\begin{align}\n",
        "x_j = \\frac{b_j-\\sum_{k=j+1}^{n}u_{jk}x_k}{u_{jj}}, j = n, n-1, \\cdot\\cdot\\cdot, 1.\n",
        "\\end{align}\n",
        "\n",
        "Here we assumed that $det𝑈≠0$.\n"
      ],
      "metadata": {
        "id": "fZXuDaxsPhJm"
      }
    },
    {
      "cell_type": "code",
      "source": [
        "def get_result_gaussian_elimination(n, A):\n",
        "  # n is the number of unknowns\n",
        "  # A is the Augmented n x n+1 matrix. (numpy array)\n",
        "\n",
        "\n",
        "  # Making numpy array of n size and initializing\n",
        "  # to zero for storing solution vector\n",
        "  x = np.zeros(n)\n",
        "  for i in range(n) :\n",
        "    if A[i][i] == 0 :\n",
        "      sys.exit(\"Pivoting Problem Occured!\")\n",
        "\n",
        "    for j in range(i+1, n) :\n",
        "      m = A[j][i]/A[i][i]\n",
        "      A[j] = A[j] - m*A[i]\n",
        "\n",
        "  x[n-1] = A[n-1][n] / A[n-1][n-1]\n",
        "\n",
        "  for i in range(n-2, -1, -1) :\n",
        "    x[i] = A[i][n]\n",
        "    for j in range(i+1, n) :\n",
        "      x[i] = x[i] - A[i][j]*x[j]\n",
        "    x[i] = x[i]/A[i][i]\n",
        "\n",
        "  # YOUR CODE HERE\n",
        "  #raise NotImplementedError()\n",
        "\n",
        "  # HINT:\n",
        "  # 1. Apply Gauss Elimination\n",
        "  # 2. Apply Back Substitution\n",
        "\n",
        "  return x"
      ],
      "metadata": {
        "id": "r0-WCKM1OZKC"
      },
      "execution_count": null,
      "outputs": []
    },
    {
      "cell_type": "code",
      "source": [
        "# Test case for the get_result_gaussian_elimination(n, A) function.\n",
        "\n",
        "data_n = 3\n",
        "data_A = np.array([[1, 2, 1, 0], [1, -2, 2, 4], [2, 12, -2, 4]])\n",
        "\n",
        "test = get_result_gaussian_elimination(data_n, data_A)\n",
        "results = [11, -2.5, -6]\n",
        "\n",
        "np.testing.assert_array_equal(test, results)"
      ],
      "metadata": {
        "id": "IjJuvkTBUifb"
      },
      "execution_count": null,
      "outputs": []
    },
    {
      "cell_type": "code",
      "source": [
        "print(test)"
      ],
      "metadata": {
        "colab": {
          "base_uri": "https://localhost:8080/"
        },
        "id": "0Vy_BLKiD6BR",
        "outputId": "7a30d1eb-132f-475d-c0ec-657e4b55eac4"
      },
      "execution_count": null,
      "outputs": [
        {
          "output_type": "stream",
          "name": "stdout",
          "text": [
            "[11.  -2.5 -6. ]\n"
          ]
        }
      ]
    },
    {
      "cell_type": "markdown",
      "source": [
        "# Part 3: LU Decomposition - 1.5 Marks\n",
        "\n",
        "We will transform the $n \\times n$ matrix $A$ into a product of two triangular matrix: one lower triangular $(L)$ and the other upper triangular $(U)$.\n",
        "\n",
        "\\begin{align}\n",
        "A = LU\n",
        "\\end{align}\n",
        "\n",
        "**Algorithm of LU decomposition:**\n",
        "\n",
        "\n",
        "1.   Initialize  $L$  to an identity matrix,  $I$  of dimension  $n×n$  and  $U=A$ .\n",
        "2.   For  $i=1,…,n$  do Step $3$\n",
        "3.   &nbsp;&nbsp; For  $j=i+1,…,n$  do Steps $4$-$5$\n",
        "4.  &nbsp;&nbsp;&nbsp;&nbsp;&nbsp;Set  $l_{ji}=u_{ji}/u_{ii}$\n",
        "5. &nbsp;&nbsp;&nbsp;&nbsp;&nbsp;Perform  $U_j=(U_j−l_{ji}U_i)$  (where  $U_i,U_j$  represent the  $i$  and  $j$  rows of the matrix  $U,$  respectively)"
      ],
      "metadata": {
        "id": "M3p-B1COVpnF"
      }
    },
    {
      "cell_type": "markdown",
      "source": [
        "*   We know, The linear system in matrix form is $𝐴𝑥=𝑏$.\n",
        "*   Using the decomposition, we get $𝐿𝑈𝑥=𝑏$.\n",
        "*    Now, let $𝑈𝑥=𝑦⟹𝐿𝑦=𝑏$.\n",
        "*   Since $𝐿$ is lower triangular, we solve $𝐿𝑦=𝑏$ to obtain $𝑦$ by forward substitution.\n",
        "*   Since $𝑈$ and $𝑦$ are known, we solve $𝑈𝑥=𝑦$ to obtain $𝑥$ by backward substitution."
      ],
      "metadata": {
        "id": "7RhuPID0ohf7"
      }
    },
    {
      "cell_type": "code",
      "source": [
        "def lu(A):\n",
        "\n",
        "  #Get the number of rows\n",
        "  n = A.shape[0]\n",
        "\n",
        "  U = A.copy()\n",
        "  L = np.eye(n, dtype=np.double)\n",
        "  for i in range(n):\n",
        "    factor = U[i+1:, i] / U[i, i]\n",
        "    L[i+1:, i] = factor\n",
        "    U[i+1:] -= factor[:, np.newaxis] * U[i]\n",
        "\n",
        "\n",
        "\n",
        "   # YOUR CODE HERE\n",
        "  #raise NotImplementedError()\n",
        "\n",
        "  # HINT:\n",
        "  #Loop over rows\n",
        "  # for i in range(n):\n",
        "    #Eliminate entries below i with row operations\n",
        "    #on U and reverse the row operations to\n",
        "    #manipulate L\n",
        "\n",
        "  return L, U\n",
        "\n",
        "\n",
        "\n",
        "def forward_substitution(L, b):\n",
        "\n",
        "  #Get number of rows\n",
        "  n = L.shape[0]\n",
        "\n",
        "  #Allocating space for the solution vector\n",
        "  y = np.zeros_like(b, dtype=np.double);\n",
        "  y[0] = b[0] / L[0, 0]\n",
        "  for i in range(1, n):\n",
        "    y[i] = (b[i] - np.dot(L[i,:i], y[:i])) / L[i,i]\n",
        "\n",
        "  # YOUR CODE HERE\n",
        "  #raise NotImplementedError()\n",
        "\n",
        "  # HINT:\n",
        "  #Perform the forward-substitution.\n",
        "  #Initialize  with the first row.\n",
        "  #Loop over rows in reverse (from the bottom  up),\n",
        "  #Start with the second to last row, because  the\n",
        "  #last row solve was completed in the last step.\n",
        "\n",
        "  return y\n",
        "\n",
        "\n",
        "\n",
        "def back_substitution(U, y):\n",
        "\n",
        "  #Number of rows\n",
        "  n = U.shape[0]\n",
        "\n",
        "  #Allocating space for the solution vector\n",
        "  x = np.zeros_like(y, dtype=np.double);\n",
        "  x[n-1] = y[n-1] / U[n-1, n-1]\n",
        "  for i in range(n-2, -1,  -1):\n",
        "    x[i] = (y[i] - np.dot(U[i, i:], x[i :])) / U[i, i]\n",
        "\n",
        "  # YOUR CODE HERE\n",
        "  #raise NotImplementedError()\n",
        "\n",
        "  # HINT:\n",
        "  #Perform the back-substitution.\n",
        "  #Initialize with the last row.\n",
        "  #Loop over rows in reverse (from the bottom up),\n",
        "  #Start with the second to last row, because the\n",
        "  #last row solve was completed in the last step.\n",
        "\n",
        "  return x\n",
        "\n",
        "\n",
        "\n",
        "def lu_solve(A, b):\n",
        "\n",
        "  L, U = lu(A)\n",
        "\n",
        "  y = forward_substitution(L, b)\n",
        "\n",
        "  return back_substitution(U, y)"
      ],
      "metadata": {
        "id": "8092-oCDnyfV"
      },
      "execution_count": null,
      "outputs": []
    },
    {
      "cell_type": "code",
      "source": [
        "# Test case for the lu_solve(A, b) function.\n",
        "\n",
        "data_A = np.array([[1., 2., 1.], [1., -2., 2.], [2., 12., -2.]])\n",
        "data_b = np.array([0., 4., 4.])\n",
        "\n",
        "test = lu_solve(data_A, data_b)\n",
        "results = [11, -2.5, -6]\n",
        "\n",
        "np.testing.assert_array_equal(test, results)"
      ],
      "metadata": {
        "id": "6VxxfL2LqKqL"
      },
      "execution_count": null,
      "outputs": []
    },
    {
      "cell_type": "code",
      "source": [
        "print(test)"
      ],
      "metadata": {
        "colab": {
          "base_uri": "https://localhost:8080/"
        },
        "id": "jGI7T69IPN5V",
        "outputId": "47e1c80a-0492-4e7f-f6ea-144663ee3da1"
      },
      "execution_count": null,
      "outputs": [
        {
          "output_type": "stream",
          "name": "stdout",
          "text": [
            "[11.  -2.5 -6. ]\n"
          ]
        }
      ]
    },
    {
      "cell_type": "markdown",
      "source": [
        "# Daily Evaluation - 4 Marks"
      ],
      "metadata": {
        "id": "EDhqIUdo0InV"
      }
    },
    {
      "cell_type": "markdown",
      "source": [
        "write a function that performs a single step of gaussian elimination to modify the second row using the first row. specifically the function should : 1. calculate the multiplier to make the first element of the second row zero 2. substract the necessary multiple of the first row from the second row"
      ],
      "metadata": {
        "id": "4kyo9ZrvXYle"
      }
    },
    {
      "cell_type": "code",
      "source": [
        "def gaussian_elimination_step(n,A):\n",
        "    for i in range(n) :\n",
        "      if A[i][i] == 0 :\n",
        "        sys.exit(\"Pivoting Problem Occured!\")\n",
        "\n",
        "      for j in range(i+1, n) :\n",
        "        m = A[j][i]/A[i][i]\n",
        "        A[j] = A[j] - m*A[i]\n",
        "\n",
        "\n",
        "\n",
        "    return A\n"
      ],
      "metadata": {
        "id": "VaxQVt7P0MMg"
      },
      "execution_count": null,
      "outputs": []
    },
    {
      "cell_type": "code",
      "source": [
        "data_n = 2\n",
        "data_A = np.array([[3, 6, -9], [1, 3,4]])\n",
        "\n",
        "test = gaussian_elimination_step(data_n, data_A)\n",
        "\n",
        "print(test)"
      ],
      "metadata": {
        "colab": {
          "base_uri": "https://localhost:8080/"
        },
        "id": "TYp9ZQYUYh3w",
        "outputId": "66c8e323-6587-4d01-9f8b-7fb71a23effe"
      },
      "execution_count": null,
      "outputs": [
        {
          "output_type": "stream",
          "name": "stdout",
          "text": [
            "[[ 3  6 -9]\n",
            " [ 0  1  7]]\n"
          ]
        }
      ]
    }
  ]
}